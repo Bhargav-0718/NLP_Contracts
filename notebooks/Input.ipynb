{
 "cells": [
  {
   "cell_type": "code",
   "execution_count": 4,
   "id": "2e83b00b",
   "metadata": {},
   "outputs": [],
   "source": [
    "import re\n",
    "import torch\n",
    "import joblib\n",
    "import pandas as pd\n",
    "from transformers import AutoTokenizer, AutoModelForSequenceClassification\n",
    "import pdfplumber\n",
    "from docx import Document\n"
   ]
  },
  {
   "cell_type": "code",
   "execution_count": 5,
   "id": "ccb82624",
   "metadata": {},
   "outputs": [],
   "source": [
    "def extract_text_from_pdf(pdf_path):\n",
    "    text = \"\"\n",
    "    with pdfplumber.open(pdf_path) as pdf:\n",
    "        for page in pdf.pages:\n",
    "            text += page.extract_text() + \"\\n\"\n",
    "    return text\n",
    "\n",
    "def extract_text_from_docx(docx_path):\n",
    "    doc = Document(docx_path)\n",
    "    return \"\\n\".join([p.text for p in doc.paragraphs if p.text.strip()])\n"
   ]
  },
  {
   "cell_type": "code",
   "execution_count": 6,
   "id": "09f634ba",
   "metadata": {},
   "outputs": [],
   "source": [
    "def split_into_clauses(text):\n",
    "    # Split on numbering, bullets, or double newlines\n",
    "    clauses = re.split(r'\\n\\d+\\.|\\n\\d+\\)|\\n•|\\n-|\\n\\n', text)\n",
    "    # Remove very short lines\n",
    "    clauses = [c.strip() for c in clauses if len(c.strip()) > 20]\n",
    "    return clauses\n"
   ]
  },
  {
   "cell_type": "code",
   "execution_count": 7,
   "id": "ec09b3b8",
   "metadata": {},
   "outputs": [],
   "source": [
    "model_path = \"./legalbert_finetuned\"\n",
    "tokenizer = AutoTokenizer.from_pretrained(model_path)\n",
    "model = AutoModelForSequenceClassification.from_pretrained(model_path)\n",
    "model.eval()\n",
    "\n",
    "# Load LabelEncoder\n",
    "le = joblib.load(\"label_encoder.pkl\")\n"
   ]
  },
  {
   "cell_type": "code",
   "execution_count": 8,
   "id": "62c366b6",
   "metadata": {},
   "outputs": [],
   "source": [
    "def predict_clause_label(clause):\n",
    "    inputs = tokenizer(clause, return_tensors=\"pt\", truncation=True, padding=True, max_length=512)\n",
    "    with torch.no_grad():\n",
    "        outputs = model(**inputs)\n",
    "        pred_id = torch.argmax(outputs.logits, dim=-1).item()\n",
    "    return le.inverse_transform([pred_id])[0], pred_id\n"
   ]
  },
  {
   "cell_type": "code",
   "execution_count": 9,
   "id": "40ee35a9",
   "metadata": {},
   "outputs": [],
   "source": [
    "def classify_contract(file_path):\n",
    "    # Step 1: Extract text\n",
    "    if file_path.endswith(\".pdf\"):\n",
    "        text = extract_text_from_pdf(file_path)\n",
    "    elif file_path.endswith(\".docx\"):\n",
    "        text = extract_text_from_docx(file_path)\n",
    "    else:\n",
    "        raise ValueError(\"Unsupported file type\")\n",
    "\n",
    "    # Step 2: Split into clauses\n",
    "    clauses = split_into_clauses(text)\n",
    "\n",
    "    # Step 3: Define Label ID -> Tier mapping\n",
    "    label_id_to_tier = {\n",
    "        0: 5, 1: 5, 2: 5, 3: 5, 4: 1, 5: 1, 6: 1, 7: 3, 8: 2, 9: 2,\n",
    "        10: 5, 11: 5, 12: 5, 13: 1, 14: 5, 15: 5, 16: 1, 17: 1, 18: 2,\n",
    "        19: 2, 20: 2, 21: 2, 22: 1, 23: 2, 24: 2, 25: 2, 26: 2, 27: 1,\n",
    "        28: 2, 29: 2, 30: 4, 31: 4, 32: 5, 33: 5, 34: 2, 35: 2, 36: 4,\n",
    "        37: 3, 38: 3, 39: 2, 40: 2, 41: 1, 42: 4, 43: 1, 44: 2, 45: 2, 46: 3\n",
    "    }\n",
    "\n",
    "    # Step 4: Predict label & assign tier for each clause\n",
    "    results = []\n",
    "    for clause in clauses:\n",
    "        label, pred_id = predict_clause_label(clause)\n",
    "        tier = label_id_to_tier.get(pred_id, 5)  # default Tier 5 if missing\n",
    "        results.append({\n",
    "            \"predicted_class_id\": pred_id,\n",
    "            \"Predicted Label\": label,\n",
    "            \"Tier\": tier,\n",
    "            \"Clause\": clause\n",
    "        })\n",
    "\n",
    "    # Step 5: Save CSV\n",
    "    df = pd.DataFrame(results)\n",
    "    df.to_csv(\"classified_contract.csv\", index=False, encoding=\"utf-8\")\n",
    "    print(\"✅ Classification complete. Saved to 'classified_contract.csv' with Tiers\")\n",
    "    return df\n"
   ]
  },
  {
   "cell_type": "code",
   "execution_count": 10,
   "id": "e0a3c633",
   "metadata": {},
   "outputs": [
    {
     "name": "stdout",
     "output_type": "stream",
     "text": [
      "✅ Classification complete. Saved to 'classified_contract.csv' with Tiers\n"
     ]
    },
    {
     "data": {
      "text/html": [
       "<div>\n",
       "<style scoped>\n",
       "    .dataframe tbody tr th:only-of-type {\n",
       "        vertical-align: middle;\n",
       "    }\n",
       "\n",
       "    .dataframe tbody tr th {\n",
       "        vertical-align: top;\n",
       "    }\n",
       "\n",
       "    .dataframe thead th {\n",
       "        text-align: right;\n",
       "    }\n",
       "</style>\n",
       "<table border=\"1\" class=\"dataframe\">\n",
       "  <thead>\n",
       "    <tr style=\"text-align: right;\">\n",
       "      <th></th>\n",
       "      <th>predicted_class_id</th>\n",
       "      <th>Predicted Label</th>\n",
       "      <th>Tier</th>\n",
       "      <th>Clause</th>\n",
       "    </tr>\n",
       "  </thead>\n",
       "  <tbody>\n",
       "    <tr>\n",
       "      <th>0</th>\n",
       "      <td>39</td>\n",
       "      <td>Revenue-Profit Sharing</td>\n",
       "      <td>2</td>\n",
       "      <td>FORM OF\\nFRANCHISE AGREEMENT\\nLocation of the ...</td>\n",
       "    </tr>\n",
       "    <tr>\n",
       "      <th>1</th>\n",
       "      <td>10</td>\n",
       "      <td>Document Name</td>\n",
       "      <td>5</td>\n",
       "      <td>TERM; SUCCESSOR FRANCHISE AGREEMENTS 4</td>\n",
       "    </tr>\n",
       "    <tr>\n",
       "      <th>2</th>\n",
       "      <td>38</td>\n",
       "      <td>Renewal Term-Answer</td>\n",
       "      <td>3</td>\n",
       "      <td>BUSINESS RECORDS AND REPORTING 19</td>\n",
       "    </tr>\n",
       "    <tr>\n",
       "      <th>3</th>\n",
       "      <td>15</td>\n",
       "      <td>Expiration Date-Answer</td>\n",
       "      <td>5</td>\n",
       "      <td>MARKETING FUND AND ADVERTISING 21</td>\n",
       "    </tr>\n",
       "    <tr>\n",
       "      <th>4</th>\n",
       "      <td>38</td>\n",
       "      <td>Renewal Term-Answer</td>\n",
       "      <td>3</td>\n",
       "      <td>CONFIDENTIAL INFORMATION 26</td>\n",
       "    </tr>\n",
       "  </tbody>\n",
       "</table>\n",
       "</div>"
      ],
      "text/plain": [
       "   predicted_class_id         Predicted Label  Tier  \\\n",
       "0                  39  Revenue-Profit Sharing     2   \n",
       "1                  10           Document Name     5   \n",
       "2                  38     Renewal Term-Answer     3   \n",
       "3                  15  Expiration Date-Answer     5   \n",
       "4                  38     Renewal Term-Answer     3   \n",
       "\n",
       "                                              Clause  \n",
       "0  FORM OF\\nFRANCHISE AGREEMENT\\nLocation of the ...  \n",
       "1             TERM; SUCCESSOR FRANCHISE AGREEMENTS 4  \n",
       "2                  BUSINESS RECORDS AND REPORTING 19  \n",
       "3                  MARKETING FUND AND ADVERTISING 21  \n",
       "4                        CONFIDENTIAL INFORMATION 26  "
      ]
     },
     "execution_count": 10,
     "metadata": {},
     "output_type": "execute_result"
    }
   ],
   "source": [
    "file_path = r\"D:\\AI\\Projects\\Contract_NLP\\PfHospitalityGroupInc_20150923_10-12G_EX-10.1_9266710_EX-10.1_Franchise Agreement1.pdf\"\n",
    "classified_df = classify_contract(file_path)\n",
    "classified_df.head()"
   ]
  }
 ],
 "metadata": {
  "kernelspec": {
   "display_name": "contract-nlp-env (3.13.4)",
   "language": "python",
   "name": "python3"
  },
  "language_info": {
   "codemirror_mode": {
    "name": "ipython",
    "version": 3
   },
   "file_extension": ".py",
   "mimetype": "text/x-python",
   "name": "python",
   "nbconvert_exporter": "python",
   "pygments_lexer": "ipython3",
   "version": "3.13.4"
  }
 },
 "nbformat": 4,
 "nbformat_minor": 5
}

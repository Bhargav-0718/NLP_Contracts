{
 "cells": [
  {
   "cell_type": "code",
   "execution_count": 1,
   "id": "4385a695",
   "metadata": {},
   "outputs": [
    {
     "name": "stdout",
     "output_type": "stream",
     "text": [
      "Requirement already satisfied: transformers in d:\\ai\\projects\\contract_nlp\\contract-nlp-env\\lib\\site-packages (4.49.0)\n",
      "Requirement already satisfied: datasets in d:\\ai\\projects\\contract_nlp\\contract-nlp-env\\lib\\site-packages (4.1.1)\n",
      "Requirement already satisfied: torch in d:\\ai\\projects\\contract_nlp\\contract-nlp-env\\lib\\site-packages (2.8.0)\n",
      "Requirement already satisfied: scikit-learn in d:\\ai\\projects\\contract_nlp\\contract-nlp-env\\lib\\site-packages (1.7.2)\n",
      "Requirement already satisfied: pandas in d:\\ai\\projects\\contract_nlp\\contract-nlp-env\\lib\\site-packages (2.3.2)\n",
      "Requirement already satisfied: openpyxl in d:\\ai\\projects\\contract_nlp\\contract-nlp-env\\lib\\site-packages (3.1.5)\n",
      "Requirement already satisfied: filelock in d:\\ai\\projects\\contract_nlp\\contract-nlp-env\\lib\\site-packages (from transformers) (3.19.1)\n",
      "Requirement already satisfied: huggingface-hub<1.0,>=0.26.0 in d:\\ai\\projects\\contract_nlp\\contract-nlp-env\\lib\\site-packages (from transformers) (0.35.0)\n",
      "Requirement already satisfied: numpy>=1.17 in d:\\ai\\projects\\contract_nlp\\contract-nlp-env\\lib\\site-packages (from transformers) (2.3.3)\n",
      "Requirement already satisfied: packaging>=20.0 in d:\\ai\\projects\\contract_nlp\\contract-nlp-env\\lib\\site-packages (from transformers) (25.0)\n",
      "Requirement already satisfied: pyyaml>=5.1 in d:\\ai\\projects\\contract_nlp\\contract-nlp-env\\lib\\site-packages (from transformers) (6.0.2)\n",
      "Requirement already satisfied: regex!=2019.12.17 in d:\\ai\\projects\\contract_nlp\\contract-nlp-env\\lib\\site-packages (from transformers) (2025.9.18)\n",
      "Requirement already satisfied: requests in d:\\ai\\projects\\contract_nlp\\contract-nlp-env\\lib\\site-packages (from transformers) (2.32.5)\n",
      "Requirement already satisfied: tokenizers<0.22,>=0.21 in d:\\ai\\projects\\contract_nlp\\contract-nlp-env\\lib\\site-packages (from transformers) (0.21.4)\n",
      "Requirement already satisfied: safetensors>=0.4.1 in d:\\ai\\projects\\contract_nlp\\contract-nlp-env\\lib\\site-packages (from transformers) (0.6.2)\n",
      "Requirement already satisfied: tqdm>=4.27 in d:\\ai\\projects\\contract_nlp\\contract-nlp-env\\lib\\site-packages (from transformers) (4.67.1)\n",
      "Requirement already satisfied: fsspec>=2023.5.0 in d:\\ai\\projects\\contract_nlp\\contract-nlp-env\\lib\\site-packages (from huggingface-hub<1.0,>=0.26.0->transformers) (2025.9.0)\n",
      "Requirement already satisfied: typing-extensions>=3.7.4.3 in d:\\ai\\projects\\contract_nlp\\contract-nlp-env\\lib\\site-packages (from huggingface-hub<1.0,>=0.26.0->transformers) (4.15.0)\n",
      "Requirement already satisfied: pyarrow>=21.0.0 in d:\\ai\\projects\\contract_nlp\\contract-nlp-env\\lib\\site-packages (from datasets) (21.0.0)\n",
      "Requirement already satisfied: dill<0.4.1,>=0.3.0 in d:\\ai\\projects\\contract_nlp\\contract-nlp-env\\lib\\site-packages (from datasets) (0.4.0)\n",
      "Requirement already satisfied: xxhash in d:\\ai\\projects\\contract_nlp\\contract-nlp-env\\lib\\site-packages (from datasets) (3.5.0)\n",
      "Requirement already satisfied: multiprocess<0.70.17 in d:\\ai\\projects\\contract_nlp\\contract-nlp-env\\lib\\site-packages (from datasets) (0.70.16)\n",
      "Requirement already satisfied: aiohttp!=4.0.0a0,!=4.0.0a1 in d:\\ai\\projects\\contract_nlp\\contract-nlp-env\\lib\\site-packages (from fsspec[http]<=2025.9.0,>=2023.1.0->datasets) (3.12.15)\n",
      "Requirement already satisfied: sympy>=1.13.3 in d:\\ai\\projects\\contract_nlp\\contract-nlp-env\\lib\\site-packages (from torch) (1.14.0)\n",
      "Requirement already satisfied: networkx in d:\\ai\\projects\\contract_nlp\\contract-nlp-env\\lib\\site-packages (from torch) (3.5)\n",
      "Requirement already satisfied: jinja2 in d:\\ai\\projects\\contract_nlp\\contract-nlp-env\\lib\\site-packages (from torch) (3.1.6)\n",
      "Requirement already satisfied: setuptools in d:\\ai\\projects\\contract_nlp\\contract-nlp-env\\lib\\site-packages (from torch) (80.9.0)\n",
      "Requirement already satisfied: scipy>=1.8.0 in d:\\ai\\projects\\contract_nlp\\contract-nlp-env\\lib\\site-packages (from scikit-learn) (1.16.2)\n",
      "Requirement already satisfied: joblib>=1.2.0 in d:\\ai\\projects\\contract_nlp\\contract-nlp-env\\lib\\site-packages (from scikit-learn) (1.5.2)\n",
      "Requirement already satisfied: threadpoolctl>=3.1.0 in d:\\ai\\projects\\contract_nlp\\contract-nlp-env\\lib\\site-packages (from scikit-learn) (3.6.0)\n",
      "Requirement already satisfied: python-dateutil>=2.8.2 in d:\\ai\\projects\\contract_nlp\\contract-nlp-env\\lib\\site-packages (from pandas) (2.9.0.post0)\n",
      "Requirement already satisfied: pytz>=2020.1 in d:\\ai\\projects\\contract_nlp\\contract-nlp-env\\lib\\site-packages (from pandas) (2025.2)\n",
      "Requirement already satisfied: tzdata>=2022.7 in d:\\ai\\projects\\contract_nlp\\contract-nlp-env\\lib\\site-packages (from pandas) (2025.2)\n",
      "Requirement already satisfied: et-xmlfile in d:\\ai\\projects\\contract_nlp\\contract-nlp-env\\lib\\site-packages (from openpyxl) (2.0.0)\n",
      "Requirement already satisfied: aiohappyeyeballs>=2.5.0 in d:\\ai\\projects\\contract_nlp\\contract-nlp-env\\lib\\site-packages (from aiohttp!=4.0.0a0,!=4.0.0a1->fsspec[http]<=2025.9.0,>=2023.1.0->datasets) (2.6.1)\n",
      "Requirement already satisfied: aiosignal>=1.4.0 in d:\\ai\\projects\\contract_nlp\\contract-nlp-env\\lib\\site-packages (from aiohttp!=4.0.0a0,!=4.0.0a1->fsspec[http]<=2025.9.0,>=2023.1.0->datasets) (1.4.0)\n",
      "Requirement already satisfied: attrs>=17.3.0 in d:\\ai\\projects\\contract_nlp\\contract-nlp-env\\lib\\site-packages (from aiohttp!=4.0.0a0,!=4.0.0a1->fsspec[http]<=2025.9.0,>=2023.1.0->datasets) (25.3.0)\n",
      "Requirement already satisfied: frozenlist>=1.1.1 in d:\\ai\\projects\\contract_nlp\\contract-nlp-env\\lib\\site-packages (from aiohttp!=4.0.0a0,!=4.0.0a1->fsspec[http]<=2025.9.0,>=2023.1.0->datasets) (1.7.0)\n",
      "Requirement already satisfied: multidict<7.0,>=4.5 in d:\\ai\\projects\\contract_nlp\\contract-nlp-env\\lib\\site-packages (from aiohttp!=4.0.0a0,!=4.0.0a1->fsspec[http]<=2025.9.0,>=2023.1.0->datasets) (6.6.4)\n",
      "Requirement already satisfied: propcache>=0.2.0 in d:\\ai\\projects\\contract_nlp\\contract-nlp-env\\lib\\site-packages (from aiohttp!=4.0.0a0,!=4.0.0a1->fsspec[http]<=2025.9.0,>=2023.1.0->datasets) (0.3.2)\n",
      "Requirement already satisfied: yarl<2.0,>=1.17.0 in d:\\ai\\projects\\contract_nlp\\contract-nlp-env\\lib\\site-packages (from aiohttp!=4.0.0a0,!=4.0.0a1->fsspec[http]<=2025.9.0,>=2023.1.0->datasets) (1.20.1)\n",
      "Requirement already satisfied: idna>=2.0 in d:\\ai\\projects\\contract_nlp\\contract-nlp-env\\lib\\site-packages (from yarl<2.0,>=1.17.0->aiohttp!=4.0.0a0,!=4.0.0a1->fsspec[http]<=2025.9.0,>=2023.1.0->datasets) (3.10)\n",
      "Requirement already satisfied: six>=1.5 in d:\\ai\\projects\\contract_nlp\\contract-nlp-env\\lib\\site-packages (from python-dateutil>=2.8.2->pandas) (1.17.0)\n",
      "Requirement already satisfied: charset_normalizer<4,>=2 in d:\\ai\\projects\\contract_nlp\\contract-nlp-env\\lib\\site-packages (from requests->transformers) (3.4.3)\n",
      "Requirement already satisfied: urllib3<3,>=1.21.1 in d:\\ai\\projects\\contract_nlp\\contract-nlp-env\\lib\\site-packages (from requests->transformers) (2.5.0)\n",
      "Requirement already satisfied: certifi>=2017.4.17 in d:\\ai\\projects\\contract_nlp\\contract-nlp-env\\lib\\site-packages (from requests->transformers) (2025.8.3)\n",
      "Requirement already satisfied: mpmath<1.4,>=1.1.0 in d:\\ai\\projects\\contract_nlp\\contract-nlp-env\\lib\\site-packages (from sympy>=1.13.3->torch) (1.3.0)\n",
      "Requirement already satisfied: colorama in d:\\ai\\projects\\contract_nlp\\contract-nlp-env\\lib\\site-packages (from tqdm>=4.27->transformers) (0.4.6)\n",
      "Requirement already satisfied: MarkupSafe>=2.0 in d:\\ai\\projects\\contract_nlp\\contract-nlp-env\\lib\\site-packages (from jinja2->torch) (3.0.2)\n",
      "Note: you may need to restart the kernel to use updated packages.\n"
     ]
    },
    {
     "name": "stderr",
     "output_type": "stream",
     "text": [
      "WARNING: Ignoring invalid distribution ~ransformers (d:\\AI\\Projects\\Contract_NLP\\contract-nlp-env\\Lib\\site-packages)\n",
      "WARNING: Ignoring invalid distribution ~ransformers (d:\\AI\\Projects\\Contract_NLP\\contract-nlp-env\\Lib\\site-packages)\n",
      "WARNING: Ignoring invalid distribution ~ransformers (d:\\AI\\Projects\\Contract_NLP\\contract-nlp-env\\Lib\\site-packages)\n"
     ]
    }
   ],
   "source": [
    "pip install transformers datasets torch scikit-learn pandas openpyxl"
   ]
  },
  {
   "cell_type": "code",
   "execution_count": 2,
   "id": "9cbb19ac",
   "metadata": {},
   "outputs": [],
   "source": [
    "import pandas as pd\n",
    "from sklearn.preprocessing import LabelEncoder\n",
    "from sklearn.model_selection import train_test_split\n",
    "\n",
    "# Load CSV\n",
    "df = pd.read_csv(\"combined_clauses.csv\")\n",
    "\n",
    "# Encode labels\n",
    "le = LabelEncoder()\n",
    "df['Label_enc'] = le.fit_transform(df['Label'])\n",
    "\n",
    "# Split into train and test\n",
    "train_texts, val_texts, train_labels, val_labels = train_test_split(\n",
    "    df['Clause'].tolist(), df['Label_enc'].tolist(), test_size=0.1, random_state=42\n",
    ")\n"
   ]
  },
  {
   "cell_type": "code",
   "execution_count": null,
   "id": "acbd059b",
   "metadata": {},
   "outputs": [
    {
     "data": {
      "text/plain": [
       "np.int64(46)"
      ]
     },
     "execution_count": 14,
     "metadata": {},
     "output_type": "execute_result"
    }
   ],
   "source": [
    "df[df['Label_enc'] == 41]\n",
    "df['Label_enc'].max()"
   ]
  },
  {
   "cell_type": "code",
   "execution_count": 3,
   "id": "027c516c",
   "metadata": {},
   "outputs": [],
   "source": [
    "from transformers import AutoTokenizer\n",
    "\n",
    "model_name = \"nlpaueb/legal-bert-base-uncased\"\n",
    "tokenizer = AutoTokenizer.from_pretrained(model_name)\n",
    "\n",
    "train_encodings = tokenizer(train_texts, truncation=True, padding=True, max_length=256)\n",
    "val_encodings = tokenizer(val_texts, truncation=True, padding=True, max_length=256)\n"
   ]
  },
  {
   "cell_type": "code",
   "execution_count": 4,
   "id": "3a70b972",
   "metadata": {},
   "outputs": [],
   "source": [
    "import torch\n",
    "\n",
    "class LegalDataset(torch.utils.data.Dataset):\n",
    "    def __init__(self, encodings, labels):\n",
    "        self.encodings = encodings\n",
    "        self.labels = labels\n",
    "        \n",
    "    def __len__(self):\n",
    "        return len(self.labels)\n",
    "    \n",
    "    def __getitem__(self, idx):\n",
    "        item = {key: torch.tensor(val[idx]) for key, val in self.encodings.items()}\n",
    "        item['labels'] = torch.tensor(self.labels[idx])\n",
    "        return item\n",
    "\n",
    "train_dataset = LegalDataset(train_encodings, train_labels)\n",
    "val_dataset = LegalDataset(val_encodings, val_labels)\n"
   ]
  },
  {
   "cell_type": "code",
   "execution_count": 5,
   "id": "0f9eb121",
   "metadata": {},
   "outputs": [
    {
     "name": "stderr",
     "output_type": "stream",
     "text": [
      "Some weights of BertForSequenceClassification were not initialized from the model checkpoint at nlpaueb/legal-bert-base-uncased and are newly initialized: ['classifier.bias', 'classifier.weight']\n",
      "You should probably TRAIN this model on a down-stream task to be able to use it for predictions and inference.\n"
     ]
    }
   ],
   "source": [
    "from transformers import AutoModelForSequenceClassification\n",
    "\n",
    "num_labels = len(le.classes_)\n",
    "model = AutoModelForSequenceClassification.from_pretrained(model_name, num_labels=num_labels)\n"
   ]
  },
  {
   "cell_type": "code",
   "execution_count": 6,
   "id": "5948a26d",
   "metadata": {},
   "outputs": [
    {
     "name": "stderr",
     "output_type": "stream",
     "text": [
      "d:\\AI\\Projects\\Contract_NLP\\contract-nlp-env\\Lib\\site-packages\\transformers\\training_args.py:1594: FutureWarning: `evaluation_strategy` is deprecated and will be removed in version 4.46 of 🤗 Transformers. Use `eval_strategy` instead\n",
      "  warnings.warn(\n",
      "d:\\AI\\Projects\\Contract_NLP\\contract-nlp-env\\Lib\\site-packages\\torch\\utils\\data\\dataloader.py:666: UserWarning: 'pin_memory' argument is set as true but no accelerator is found, then device pinned memory won't be used.\n",
      "  warnings.warn(warn_msg)\n"
     ]
    },
    {
     "data": {
      "text/html": [
       "\n",
       "    <div>\n",
       "      \n",
       "      <progress value='2913' max='2913' style='width:300px; height:20px; vertical-align: middle;'></progress>\n",
       "      [2913/2913 6:57:00, Epoch 3/3]\n",
       "    </div>\n",
       "    <table border=\"1\" class=\"dataframe\">\n",
       "  <thead>\n",
       " <tr style=\"text-align: left;\">\n",
       "      <th>Epoch</th>\n",
       "      <th>Training Loss</th>\n",
       "      <th>Validation Loss</th>\n",
       "      <th>Accuracy</th>\n",
       "      <th>F1</th>\n",
       "    </tr>\n",
       "  </thead>\n",
       "  <tbody>\n",
       "    <tr>\n",
       "      <td>1</td>\n",
       "      <td>0.950900</td>\n",
       "      <td>0.808124</td>\n",
       "      <td>0.753187</td>\n",
       "      <td>0.704326</td>\n",
       "    </tr>\n",
       "    <tr>\n",
       "      <td>2</td>\n",
       "      <td>0.641600</td>\n",
       "      <td>0.666271</td>\n",
       "      <td>0.779838</td>\n",
       "      <td>0.743163</td>\n",
       "    </tr>\n",
       "    <tr>\n",
       "      <td>3</td>\n",
       "      <td>0.521400</td>\n",
       "      <td>0.656499</td>\n",
       "      <td>0.782155</td>\n",
       "      <td>0.754917</td>\n",
       "    </tr>\n",
       "  </tbody>\n",
       "</table><p>"
      ],
      "text/plain": [
       "<IPython.core.display.HTML object>"
      ]
     },
     "metadata": {},
     "output_type": "display_data"
    },
    {
     "name": "stderr",
     "output_type": "stream",
     "text": [
      "d:\\AI\\Projects\\Contract_NLP\\contract-nlp-env\\Lib\\site-packages\\torch\\utils\\data\\dataloader.py:666: UserWarning: 'pin_memory' argument is set as true but no accelerator is found, then device pinned memory won't be used.\n",
      "  warnings.warn(warn_msg)\n",
      "d:\\AI\\Projects\\Contract_NLP\\contract-nlp-env\\Lib\\site-packages\\torch\\utils\\data\\dataloader.py:666: UserWarning: 'pin_memory' argument is set as true but no accelerator is found, then device pinned memory won't be used.\n",
      "  warnings.warn(warn_msg)\n",
      "d:\\AI\\Projects\\Contract_NLP\\contract-nlp-env\\Lib\\site-packages\\torch\\utils\\data\\dataloader.py:666: UserWarning: 'pin_memory' argument is set as true but no accelerator is found, then device pinned memory won't be used.\n",
      "  warnings.warn(warn_msg)\n"
     ]
    },
    {
     "data": {
      "text/plain": [
       "TrainOutput(global_step=2913, training_loss=0.9271633866477413, metrics={'train_runtime': 25027.7234, 'train_samples_per_second': 0.931, 'train_steps_per_second': 0.116, 'total_flos': 3065824222963200.0, 'train_loss': 0.9271633866477413, 'epoch': 3.0})"
      ]
     },
     "execution_count": 6,
     "metadata": {},
     "output_type": "execute_result"
    }
   ],
   "source": [
    "from transformers import Trainer, TrainingArguments\n",
    "\n",
    "training_args = TrainingArguments(\n",
    "    output_dir=\"./legalbert_finetuned\",\n",
    "    num_train_epochs=3,\n",
    "    per_device_train_batch_size=8,\n",
    "    per_device_eval_batch_size=8,\n",
    "    evaluation_strategy=\"epoch\",\n",
    "    save_strategy=\"epoch\",\n",
    "    learning_rate=2e-5,\n",
    "    logging_dir=\"./logs\",\n",
    "    logging_steps=50,\n",
    "    load_best_model_at_end=True,\n",
    "    metric_for_best_model=\"accuracy\",\n",
    ")\n",
    "\n",
    "from sklearn.metrics import accuracy_score, f1_score\n",
    "\n",
    "def compute_metrics(eval_pred):\n",
    "    logits, labels = eval_pred\n",
    "    preds = logits.argmax(axis=-1)\n",
    "    acc = accuracy_score(labels, preds)\n",
    "    f1 = f1_score(labels, preds, average=\"weighted\")\n",
    "    return {\"accuracy\": acc, \"f1\": f1}\n",
    "\n",
    "trainer = Trainer(\n",
    "    model=model,\n",
    "    args=training_args,\n",
    "    train_dataset=train_dataset,\n",
    "    eval_dataset=val_dataset,\n",
    "    compute_metrics=compute_metrics,\n",
    ")\n",
    "\n",
    "# Start training\n",
    "trainer.train()\n"
   ]
  },
  {
   "cell_type": "code",
   "execution_count": 7,
   "id": "a1c6aa46",
   "metadata": {},
   "outputs": [
    {
     "data": {
      "text/plain": [
       "('./legalbert_finetuned\\\\tokenizer_config.json',\n",
       " './legalbert_finetuned\\\\special_tokens_map.json',\n",
       " './legalbert_finetuned\\\\vocab.txt',\n",
       " './legalbert_finetuned\\\\added_tokens.json',\n",
       " './legalbert_finetuned\\\\tokenizer.json')"
      ]
     },
     "execution_count": 7,
     "metadata": {},
     "output_type": "execute_result"
    }
   ],
   "source": [
    "trainer.save_model(\"./legalbert_finetuned\")\n",
    "tokenizer.save_pretrained(\"./legalbert_finetuned\")\n"
   ]
  },
  {
   "cell_type": "code",
   "execution_count": 15,
   "id": "f653ceca",
   "metadata": {},
   "outputs": [
    {
     "name": "stdout",
     "output_type": "stream",
     "text": [
      "✅ Label encoder recreated and saved as label_encoder.pkl\n"
     ]
    }
   ],
   "source": [
    "import pandas as pd\n",
    "from sklearn.preprocessing import LabelEncoder\n",
    "import joblib\n",
    "\n",
    "# Load your original CSV with Clause + Label\n",
    "df = pd.read_csv(\"combined_clauses.csv\")\n",
    "\n",
    "# Fit LabelEncoder on labels\n",
    "le = LabelEncoder()\n",
    "df[\"Label_enc\"] = le.fit_transform(df[\"Label\"])\n",
    "\n",
    "# Save for inference\n",
    "joblib.dump(le, \"label_encoder.pkl\")\n",
    "\n",
    "print(\"✅ Label encoder recreated and saved as label_encoder.pkl\")\n"
   ]
  }
 ],
 "metadata": {
  "kernelspec": {
   "display_name": "contract-nlp-env (3.13.4)",
   "language": "python",
   "name": "python3"
  },
  "language_info": {
   "codemirror_mode": {
    "name": "ipython",
    "version": 3
   },
   "file_extension": ".py",
   "mimetype": "text/x-python",
   "name": "python",
   "nbconvert_exporter": "python",
   "pygments_lexer": "ipython3",
   "version": "3.13.4"
  }
 },
 "nbformat": 4,
 "nbformat_minor": 5
}

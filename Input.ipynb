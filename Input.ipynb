{
 "cells": [
  {
   "cell_type": "code",
   "execution_count": 4,
   "id": "2e83b00b",
   "metadata": {},
   "outputs": [],
   "source": [
    "import re\n",
    "import torch\n",
    "import joblib\n",
    "import pandas as pd\n",
    "from transformers import AutoTokenizer, AutoModelForSequenceClassification\n",
    "import pdfplumber\n",
    "from docx import Document\n"
   ]
  },
  {
   "cell_type": "code",
   "execution_count": 5,
   "id": "ccb82624",
   "metadata": {},
   "outputs": [],
   "source": [
    "def extract_text_from_pdf(pdf_path):\n",
    "    text = \"\"\n",
    "    with pdfplumber.open(pdf_path) as pdf:\n",
    "        for page in pdf.pages:\n",
    "            text += page.extract_text() + \"\\n\"\n",
    "    return text\n",
    "\n",
    "def extract_text_from_docx(docx_path):\n",
    "    doc = Document(docx_path)\n",
    "    return \"\\n\".join([p.text for p in doc.paragraphs if p.text.strip()])\n"
   ]
  },
  {
   "cell_type": "code",
   "execution_count": 6,
   "id": "09f634ba",
   "metadata": {},
   "outputs": [],
   "source": [
    "def split_into_clauses(text):\n",
    "    # Split on numbering, bullets, or double newlines\n",
    "    clauses = re.split(r'\\n\\d+\\.|\\n\\d+\\)|\\n•|\\n-|\\n\\n', text)\n",
    "    # Remove very short lines\n",
    "    clauses = [c.strip() for c in clauses if len(c.strip()) > 20]\n",
    "    return clauses\n"
   ]
  },
  {
   "cell_type": "code",
   "execution_count": 7,
   "id": "ec09b3b8",
   "metadata": {},
   "outputs": [],
   "source": [
    "model_path = \"./legalbert_finetuned\"\n",
    "tokenizer = AutoTokenizer.from_pretrained(model_path)\n",
    "model = AutoModelForSequenceClassification.from_pretrained(model_path)\n",
    "model.eval()\n",
    "\n",
    "# Load LabelEncoder\n",
    "le = joblib.load(\"label_encoder.pkl\")\n"
   ]
  },
  {
   "cell_type": "code",
   "execution_count": 8,
   "id": "62c366b6",
   "metadata": {},
   "outputs": [],
   "source": [
    "def predict_clause_label(clause):\n",
    "    inputs = tokenizer(clause, return_tensors=\"pt\", truncation=True, padding=True, max_length=512)\n",
    "    with torch.no_grad():\n",
    "        outputs = model(**inputs)\n",
    "        pred_id = torch.argmax(outputs.logits, dim=-1).item()\n",
    "    return le.inverse_transform([pred_id])[0], pred_id\n"
   ]
  },
  {
   "cell_type": "code",
   "execution_count": 9,
   "id": "40ee35a9",
   "metadata": {},
   "outputs": [],
   "source": [
    "def classify_contract(file_path):\n",
    "    # Step 1: Extract text\n",
    "    if file_path.endswith(\".pdf\"):\n",
    "        text = extract_text_from_pdf(file_path)\n",
    "    elif file_path.endswith(\".docx\"):\n",
    "        text = extract_text_from_docx(file_path)\n",
    "    else:\n",
    "        raise ValueError(\"Unsupported file type\")\n",
    "\n",
    "    # Step 2: Split into clauses\n",
    "    clauses = split_into_clauses(text)\n",
    "\n",
    "    # Step 3: Define Label ID -> Tier mapping\n",
    "    label_id_to_tier = {\n",
    "        0: 5, 1: 5, 2: 5, 3: 5, 4: 1, 5: 1, 6: 1, 7: 3, 8: 2, 9: 2,\n",
    "        10: 5, 11: 5, 12: 5, 13: 1, 14: 5, 15: 5, 16: 1, 17: 1, 18: 2,\n",
    "        19: 2, 20: 2, 21: 2, 22: 1, 23: 2, 24: 2, 25: 2, 26: 2, 27: 1,\n",
    "        28: 2, 29: 2, 30: 4, 31: 4, 32: 5, 33: 5, 34: 2, 35: 2, 36: 4,\n",
    "        37: 3, 38: 3, 39: 2, 40: 2, 41: 1, 42: 4, 43: 1, 44: 2, 45: 2, 46: 3\n",
    "    }\n",
    "\n",
    "    # Step 4: Predict label & assign tier for each clause\n",
    "    results = []\n",
    "    for clause in clauses:\n",
    "        label, pred_id = predict_clause_label(clause)\n",
    "        tier = label_id_to_tier.get(pred_id, 5)  # default Tier 5 if missing\n",
    "        results.append({\n",
    "            \"predicted_class_id\": pred_id,\n",
    "            \"Predicted Label\": label,\n",
    "            \"Tier\": tier,\n",
    "            \"Clause\": clause\n",
    "        })\n",
    "\n",
    "    # Step 5: Save CSV\n",
    "    df = pd.DataFrame(results)\n",
    "    df.to_csv(\"classified_contract.csv\", index=False, encoding=\"utf-8\")\n",
    "    print(\"✅ Classification complete. Saved to 'classified_contract.csv' with Tiers\")\n",
    "    return df\n"
   ]
  },
  {
   "cell_type": "code",
   "execution_count": null,
   "id": "e0a3c633",
   "metadata": {},
   "outputs": [],
   "source": [
    "file_path = r\"D:\\AI\\Projects\\Contract_NLP\\PfHospitalityGroupInc_20150923_10-12G_EX-10.1_9266710_EX-10.1_Franchise Agreement1.pdf\"\n",
    "classified_df = classify_contract(file_path)\n",
    "classified_df.head()"
   ]
  },
  {
   "cell_type": "code",
   "execution_count": null,
   "id": "8675518f",
   "metadata": {},
   "outputs": [],
   "source": [
    "import openai\n",
    "import os\n",
    "\n",
    "# Set your OpenAI API key in env variables\n",
    "openai.api_key = os.getenv(\"OPENAI_API_KEY\")\n",
    "\n",
    "SUMMARIZATION_PROMPT = \"\"\"\n",
    "You are a legal summarization assistant. Given the contract clause(s) below, create a concise, abstractive legal summary.\n",
    "Focus on: parties, effective/expiration dates, termination rights, payment/compensation obligations, liability caps, indemnities, IP ownership/licensing, exclusivity, and any unusual risks.\n",
    "Keep the answer concise (about 3-6 sentences) and use plain language but preserve legal facts and numeric values.\n",
    "\n",
    "Clause(s):\n",
    "{chunk_text}\n",
    "\n",
    "Provide:\n",
    "1) A short 1-2 sentence overview.\n",
    "2) Bullet list of top 4 obligations / risks with short tags (e.g., TERMINATION: either party may..., LIABILITY CAP: $X...).\n",
    "3) If present, list any key dates or numeric amounts found.\n",
    "\"\"\"\n",
    "\n",
    "def summarize_chunk_openai(chunk_text: str, model: str = \"gpt-4o-mini\", temperature: float = 0.0, max_tokens: int = 400):\n",
    "    prompt = SUMMARIZATION_PROMPT.format(chunk_text=chunk_text)\n",
    "    resp = openai.ChatCompletion.create(\n",
    "        model=model,\n",
    "        messages=[{\"role\":\"system\",\"content\":\"You are a helpful legal assistant.\"},\n",
    "                  {\"role\":\"user\",\"content\":prompt}],\n",
    "        temperature=temperature,\n",
    "        max_tokens=max_tokens\n",
    "    )\n",
    "    return resp.choices[0].message.content.strip()\n"
   ]
  },
  {
   "cell_type": "code",
   "execution_count": null,
   "id": "189f6e13",
   "metadata": {},
   "outputs": [],
   "source": [
    "def hierarchical_summary_openai(text: str, chunk_size_chars: int = 3000, overlap_chars: int = 200, model=\"gpt-4o-mini\"):\n",
    "    # Clean text\n",
    "    text = re.sub(r'\\n{2,}', '\\n\\n', text).strip()\n",
    "    \n",
    "    # Chunk contract text\n",
    "    chunks = []\n",
    "    i = 0\n",
    "    while i < len(text):\n",
    "        chunk = text[i:i+chunk_size_chars]\n",
    "        chunks.append(chunk)\n",
    "        i += chunk_size_chars - overlap_chars\n",
    "\n",
    "    # Summarize each chunk\n",
    "    chunk_summaries = []\n",
    "    for ch in chunks:\n",
    "        summary = summarize_chunk_openai(ch, model=model)\n",
    "        chunk_summaries.append(summary)\n",
    "\n",
    "    # Combine summaries and summarize again for a final summary\n",
    "    combined = \"\\n\\n\".join(chunk_summaries)\n",
    "    final_prompt = (\n",
    "        \"You are a legal summarization assistant. The following are intermediate summaries \"\n",
    "        \"of parts of a contract. Produce a single concise abstractive summary of the whole contract, \"\n",
    "        \"emphasizing obligations, risks, and important dates and numeric values. \"\n",
    "        \"Also produce a short (4-item) prioritized checklist of clauses that require human review.\\n\\n\"\n",
    "        f\"{combined}\"\n",
    "    )\n",
    "\n",
    "    resp = openai.ChatCompletion.create(\n",
    "        model=model,\n",
    "        messages=[{\"role\":\"system\",\"content\":\"You are a helpful legal assistant.\"},\n",
    "                  {\"role\":\"user\",\"content\":final_prompt}],\n",
    "        temperature=0.0,\n",
    "        max_tokens=600\n",
    "    )\n",
    "    final_summary = resp.choices[0].message.content.strip()\n",
    "    return final_summary, chunk_summaries\n"
   ]
  },
  {
   "cell_type": "code",
   "execution_count": null,
   "id": "14c33adf",
   "metadata": {},
   "outputs": [
    {
     "ename": "NameError",
     "evalue": "name 'file_path' is not defined",
     "output_type": "error",
     "traceback": [
      "\u001b[31m---------------------------------------------------------------------------\u001b[39m",
      "\u001b[31mNameError\u001b[39m                                 Traceback (most recent call last)",
      "\u001b[36mCell\u001b[39m\u001b[36m \u001b[39m\u001b[32mIn[3]\u001b[39m\u001b[32m, line 2\u001b[39m\n\u001b[32m      1\u001b[39m \u001b[38;5;66;03m# Use the original extracted contract text\u001b[39;00m\n\u001b[32m----> \u001b[39m\u001b[32m2\u001b[39m text = extract_text_from_pdf(file_path) \u001b[38;5;28;01mif\u001b[39;00m \u001b[43mfile_path\u001b[49m.lower().endswith(\u001b[33m\"\u001b[39m\u001b[33m.pdf\u001b[39m\u001b[33m\"\u001b[39m) \u001b[38;5;28;01melse\u001b[39;00m extract_text_from_docx(file_path)\n\u001b[32m      4\u001b[39m final_summary, chunk_summaries = hierarchical_summary_openai(text, chunk_size_chars=\u001b[32m2500\u001b[39m, overlap_chars=\u001b[32m200\u001b[39m, model=\u001b[33m\"\u001b[39m\u001b[33mgpt-4o-mini\u001b[39m\u001b[33m\"\u001b[39m)\n\u001b[32m      6\u001b[39m \u001b[38;5;66;03m# Print & save\u001b[39;00m\n",
      "\u001b[31mNameError\u001b[39m: name 'file_path' is not defined"
     ]
    }
   ],
   "source": [
    "# Use the original extracted contract text\n",
    "text = extract_text_from_pdf(file_path) if file_path.lower().endswith(\".pdf\") else extract_text_from_docx(file_path)\n",
    "\n",
    "final_summary, chunk_summaries = hierarchical_summary_openai(text, chunk_size_chars=2500, overlap_chars=200, model=\"gpt-4o-mini\")\n",
    "\n",
    "# Print & save\n",
    "print(\"=== Final Abstractive Summary ===\")\n",
    "print(final_summary)\n",
    "\n",
    "with open(\"contract_abstractive_summary.txt\", \"w\", encoding=\"utf-8\") as f:\n",
    "    f.write(final_summary)\n",
    "\n",
    "print(\"✅ Abstractive summary saved to 'contract_abstractive_summary.txt'\")\n"
   ]
  },
  {
   "cell_type": "code",
   "execution_count": null,
   "id": "ea850b3c",
   "metadata": {},
   "outputs": [],
   "source": []
  }
 ],
 "metadata": {
  "kernelspec": {
   "display_name": "contract-nlp-env (3.13.4)",
   "language": "python",
   "name": "python3"
  },
  "language_info": {
   "codemirror_mode": {
    "name": "ipython",
    "version": 3
   },
   "file_extension": ".py",
   "mimetype": "text/x-python",
   "name": "python",
   "nbconvert_exporter": "python",
   "pygments_lexer": "ipython3",
   "version": "3.13.4"
  }
 },
 "nbformat": 4,
 "nbformat_minor": 5
}
